{
 "cells": [
  {
   "cell_type": "code",
   "execution_count": 1,
   "id": "09cbda16-3856-4883-9d19-158bf6d88ac9",
   "metadata": {
    "tags": []
   },
   "outputs": [
    {
     "name": "stderr",
     "output_type": "stream",
     "text": [
      "C:\\Users\\joshu\\anaconda3\\Lib\\site-packages\\pandas\\core\\arrays\\masked.py:60: UserWarning: Pandas requires version '1.3.6' or newer of 'bottleneck' (version '1.3.5' currently installed).\n",
      "  from pandas.core import (\n"
     ]
    }
   ],
   "source": [
    "import torchvision\n",
    "import torch\n",
    "import torch.nn as nn\n",
    "import pandas as pd\n",
    "import os \n",
    "from torch.nn import functional as F\n",
    "import torch.optim as optim"
   ]
  },
  {
   "cell_type": "code",
   "execution_count": 2,
   "id": "282ecfff-3850-43f0-ae8d-8d1c81ea2634",
   "metadata": {
    "tags": []
   },
   "outputs": [],
   "source": [
    "def create_dataset(original_data, input_list, output):\n",
    "    selected_columns = input_list + output\n",
    "    df = original_data[selected_columns]\n",
    "    df = df.dropna()\n",
    "    return df\n",
    "\n",
    "def get_zscored(df):\n",
    "    df_raw = df.loc[:,~df.columns.str.contains('percentile')]\n",
    "    df_raw = df_raw.loc[:,df_raw.columns.isin(labs.keys())]\n",
    "    #df_raw.columns = df_raw.columns.map(labs)\n",
    "    drop = ['50947', '50934', '51678', '52135', '51133', '52069', '52074', '52073', '52075']\n",
    "    df_common = df_raw.drop(drop, axis=1)\n",
    "    df_z_scores = (df_common - df_common.mean()) / df_common.std()\n",
    "    return df_z_scores\n",
    "\n",
    "def get_percentile(df):\n",
    "    df_raw = df.loc[:,df.columns.str.contains('percentile')]\n",
    "    drop = ['50947', '50934', '51678', '52135', '51133', '52069', '52074', '52073', '52075']\n",
    "    drop = [x+\"_percentile\" for x in drop]\n",
    "    df_common = df_raw.drop(drop, axis=1)\n",
    "    df_common.columns = [x.split(\"_\")[0] for x in df_common.columns]\n",
    "    return df_common\n",
    "\n",
    "def get_raw(df):\n",
    "    df_raw = df.loc[:,~df.columns.str.contains('percentile')]\n",
    "    df_raw = df_raw.loc[:,df_raw.columns.isin(labs.keys())]\n",
    "    #df_raw.columns = df_raw.columns.map(labs)\n",
    "    drop = ['50947', '50934', '51678', '52135', '51133', '52069', '52074', '52073', '52075']\n",
    "    df_common = df_raw.drop(drop, axis=1)\n",
    "    return df_common"
   ]
  },
  {
   "cell_type": "code",
   "execution_count": 3,
   "id": "f9347e06-7b1a-491d-b188-cbf8df77d110",
   "metadata": {
    "tags": []
   },
   "outputs": [],
   "source": [
    "labs = {\n",
    "    \"51221\": \"Hematocrit\",\n",
    "    \"51265\": \"Platelet Count\",\n",
    "    \"50912\": \"Creatinine\",\n",
    "    \"50971\": \"Potassium\",\n",
    "    \"51222\": \"Hemoglobin\",\n",
    "    \"51301\": \"White Blood Cells\",\n",
    "    \"51249\": \"MCHC\",\n",
    "    \"51279\": \"Red Blood Cells\",\n",
    "    \"51250\": \"MCV\",\n",
    "    \"51248\": \"MCH\",\n",
    "    \"51277\": \"RDW\",\n",
    "    \"51006\": \"Urea Nitrogen\",\n",
    "    \"50983\": \"Sodium\",\n",
    "    \"50902\": \"Chloride\",\n",
    "    \"50882\": \"Bicarbonate\",\n",
    "    \"50868\": \"Anion Gap\",\n",
    "    \"50931\": \"Glucose\",\n",
    "    \"50960\": \"Magnesium\",\n",
    "    \"50893\": \"Calcium, Total\",\n",
    "    \"50970\": \"Phosphate\",\n",
    "    \"51237\": \"INR(PT)\",\n",
    "    \"51274\": \"PT\",\n",
    "    \"51275\": \"PTT\",\n",
    "    \"51146\": \"Basophils\",\n",
    "    \"51256\": \"Neutrophils\",\n",
    "    \"51254\": \"Monocytes\",\n",
    "    \"51200\": \"Eosinophils\",\n",
    "    \"51244\": \"Lymphocytes\",\n",
    "    \"52172\": \"RDW-SD\",\n",
    "    \"50934\": \"H\",\n",
    "    \"51678\": \"L\",\n",
    "    \"50947\": \"I\",\n",
    "    \"50861\": \"Alanine Aminotransferase (ALT)\",\n",
    "    \"50878\": \"Asparate Aminotransferase (AST)\",\n",
    "    \"50813\": \"Lactate\",\n",
    "    \"50863\": \"Alkaline Phosphatase\",\n",
    "    \"50885\": \"Bilirubin, Total\",\n",
    "    \"50820\": \"pH\",\n",
    "    \"50862\": \"Albumin\",\n",
    "    \"50802\": \"Base Excess\",\n",
    "    \"50821\": \"pO2\",\n",
    "    \"50804\": \"Calculated Total CO2\",\n",
    "    \"50818\": \"pCO2\",\n",
    "    \"52075\": \"Absolute Neutrophil Count\",\n",
    "    \"52073\": \"Absolute Eosinophil Count\",\n",
    "    \"52074\": \"Absolute Monocyte Count\",\n",
    "    \"52069\": \"Absolute Basophil Count\",\n",
    "    \"51133\": \"Absolute Lymphocyte Count\",\n",
    "    \"50910\": \"Creatine Kinase (CK)\",\n",
    "    \"52135\": \"Immature Granulocytes\"\n",
    "}\n",
    "labs_reversed = {value: key for key, value in labs.items()}"
   ]
  },
  {
   "cell_type": "code",
   "execution_count": 4,
   "id": "a090c1c4-990b-485c-8110-313058fc5f71",
   "metadata": {
    "tags": []
   },
   "outputs": [],
   "source": [
    "df_train = pd.read_csv(r\"C:\\Users\\joshu\\Downloads\\train.csv\")\n",
    "df_test = pd.read_csv(r\"C:\\Users\\joshu\\Downloads\\test (1).csv\")\n",
    "df_val = pd.read_csv(r\"C:\\Users\\joshu\\Downloads\\val.csv\")\n",
    "\n",
    "df_train_z = get_zscored(df_train)\n",
    "df_train_raw = get_raw(df_train)\n",
    "df_train_percentiles = get_percentile(df_train)\n",
    "\n",
    "df_test_z = get_zscored(df_test)\n",
    "df_test_raw = get_raw(df_test)\n",
    "df_test_percentile = get_percentile(df_test)"
   ]
  },
  {
   "cell_type": "code",
   "execution_count": 5,
   "id": "d97b7bbc-72ff-4994-81a8-68c6799398b2",
   "metadata": {
    "tags": []
   },
   "outputs": [],
   "source": [
    "total_feats = ['PTT',\n",
    " 'Bicarbonate',\n",
    " 'Calcium, Total',\n",
    " 'Glucose',\n",
    " 'pCO2',\n",
    " 'Sodium',\n",
    " 'Neutrophils',\n",
    " 'pH',\n",
    " 'Chloride',\n",
    " 'Hemoglobin',\n",
    " 'Phosphate',\n",
    " 'Alanine Aminotransferase (ALT)',\n",
    " 'Urea Nitrogen']"
   ]
  },
  {
   "cell_type": "code",
   "execution_count": 6,
   "id": "25de02e2-9024-44db-8f9f-693b3c5372cf",
   "metadata": {
    "tags": []
   },
   "outputs": [],
   "source": [
    "encode = lambda x: [labs_reversed[i] for i in x]\n",
    "decode = lambda x: [labs[i] for i in x]"
   ]
  },
  {
   "cell_type": "code",
   "execution_count": 7,
   "id": "48912080-abd5-465b-bcd1-74cc9fab6475",
   "metadata": {
    "tags": []
   },
   "outputs": [],
   "source": [
    "cols = decode(df_train_raw.columns.to_list())\n",
    "targets = list(set(cols) - set(total_feats))"
   ]
  },
  {
   "cell_type": "code",
   "execution_count": 8,
   "id": "56c9b6aa-3f5f-4085-840b-f29650a093fe",
   "metadata": {
    "tags": []
   },
   "outputs": [],
   "source": [
    "#Hyperparameters\n",
    "\n",
    "hidden_dim = 60\n",
    "\n",
    "num_channels = 20\n",
    "\n",
    "in_channels = 13\n",
    "\n",
    "out_dim = 28\n",
    "\n",
    "hidden_channels = [hidden_dim]*num_channels + [out_dim]\n",
    "\n",
    "norm_layer = nn.LayerNorm\n",
    "\n",
    "activation_layer = nn.ReLU\n",
    "\n",
    "bias = True\n",
    "\n",
    "dropout = 0.01\n",
    "\n",
    "mlp = torchvision.ops.MLP(in_channels=in_channels,hidden_channels=hidden_channels,\n",
    "                         norm_layer=norm_layer,activation_layer=activation_layer, bias=bias, dropout=dropout)"
   ]
  },
  {
   "cell_type": "code",
   "execution_count": 9,
   "id": "b7da14a7-1b76-4f4c-8dbf-bc67d20b25f7",
   "metadata": {
    "tags": []
   },
   "outputs": [],
   "source": [
    "X_train = torch.tensor(df_train_raw[encode(total_feats)].values).type(torch.float).cuda()\n",
    "Y_train = torch.tensor(df_train_raw[encode(targets)].values).type(torch.float).cuda()\n",
    "\n",
    "Y_test =  torch.tensor(df_test_raw[encode(targets)].values).type(torch.float).cuda()\n",
    "X_test =  torch.tensor(df_test_raw[encode(total_feats)].values).type(torch.float).cuda()"
   ]
  },
  {
   "cell_type": "code",
   "execution_count": 13,
   "id": "59d5b983-2b17-4eca-9a6f-5563655f47e8",
   "metadata": {
    "tags": []
   },
   "outputs": [],
   "source": [
    "mlp = mlp.cuda()"
   ]
  },
  {
   "cell_type": "code",
   "execution_count": 14,
   "id": "e03eec2a-2bbc-4ca8-8562-ecbb3e1f492b",
   "metadata": {
    "tags": []
   },
   "outputs": [],
   "source": [
    "def eval(m):\n",
    "    \n",
    "    loss_f = nn.MSELoss()\n",
    "    \n",
    "    with torch.no_grad():\n",
    "        \n",
    "        y_preds = m(X_test)\n",
    "\n",
    "        # Compute loss\n",
    "        loss = loss_f(y_preds, Y_test)\n",
    "        \n",
    "    return loss.item()"
   ]
  },
  {
   "cell_type": "code",
   "execution_count": 15,
   "id": "dd935063-0303-4298-bd91-330cdb5ac0a3",
   "metadata": {
    "tags": []
   },
   "outputs": [
    {
     "name": "stdout",
     "output_type": "stream",
     "text": [
      "train loss: nan, val loss: nan\n",
      "train loss: nan, val loss: nan\n",
      "train loss: nan, val loss: nan\n",
      "train loss: nan, val loss: nan\n",
      "train loss: nan, val loss: nan\n",
      "train loss: nan, val loss: nan\n",
      "train loss: nan, val loss: nan\n",
      "train loss: nan, val loss: nan\n",
      "train loss: nan, val loss: nan\n",
      "train loss: nan, val loss: nan\n",
      "train loss: nan, val loss: nan\n",
      "train loss: nan, val loss: nan\n",
      "train loss: nan, val loss: nan\n",
      "train loss: nan, val loss: nan\n",
      "train loss: nan, val loss: nan\n",
      "train loss: nan, val loss: nan\n",
      "train loss: nan, val loss: nan\n",
      "train loss: nan, val loss: nan\n",
      "train loss: nan, val loss: nan\n",
      "train loss: nan, val loss: nan\n",
      "train loss: nan, val loss: nan\n",
      "train loss: nan, val loss: nan\n",
      "train loss: nan, val loss: nan\n",
      "train loss: nan, val loss: nan\n",
      "train loss: nan, val loss: nan\n",
      "train loss: nan, val loss: nan\n",
      "train loss: nan, val loss: nan\n",
      "train loss: nan, val loss: nan\n",
      "train loss: nan, val loss: nan\n",
      "train loss: nan, val loss: nan\n",
      "train loss: nan, val loss: nan\n",
      "train loss: nan, val loss: nan\n",
      "train loss: nan, val loss: nan\n"
     ]
    },
    {
     "ename": "KeyboardInterrupt",
     "evalue": "",
     "output_type": "error",
     "traceback": [
      "\u001b[1;31m---------------------------------------------------------------------------\u001b[0m",
      "\u001b[1;31mKeyboardInterrupt\u001b[0m                         Traceback (most recent call last)",
      "Cell \u001b[1;32mIn[15], line 16\u001b[0m\n\u001b[0;32m     14\u001b[0m \u001b[38;5;66;03m# Backward pass and optimization\u001b[39;00m\n\u001b[0;32m     15\u001b[0m optimizer\u001b[38;5;241m.\u001b[39mzero_grad()\n\u001b[1;32m---> 16\u001b[0m loss\u001b[38;5;241m.\u001b[39mbackward()\n\u001b[0;32m     17\u001b[0m optimizer\u001b[38;5;241m.\u001b[39mstep()\n\u001b[0;32m     19\u001b[0m \u001b[38;5;28;01mif\u001b[39;00m step\u001b[38;5;241m%\u001b[39m\u001b[38;5;241m10\u001b[39m \u001b[38;5;241m==\u001b[39m \u001b[38;5;241m0\u001b[39m:\n",
      "File \u001b[1;32m~\\anaconda3\\Lib\\site-packages\\torch\\_tensor.py:492\u001b[0m, in \u001b[0;36mTensor.backward\u001b[1;34m(self, gradient, retain_graph, create_graph, inputs)\u001b[0m\n\u001b[0;32m    482\u001b[0m \u001b[38;5;28;01mif\u001b[39;00m has_torch_function_unary(\u001b[38;5;28mself\u001b[39m):\n\u001b[0;32m    483\u001b[0m     \u001b[38;5;28;01mreturn\u001b[39;00m handle_torch_function(\n\u001b[0;32m    484\u001b[0m         Tensor\u001b[38;5;241m.\u001b[39mbackward,\n\u001b[0;32m    485\u001b[0m         (\u001b[38;5;28mself\u001b[39m,),\n\u001b[1;32m   (...)\u001b[0m\n\u001b[0;32m    490\u001b[0m         inputs\u001b[38;5;241m=\u001b[39minputs,\n\u001b[0;32m    491\u001b[0m     )\n\u001b[1;32m--> 492\u001b[0m torch\u001b[38;5;241m.\u001b[39mautograd\u001b[38;5;241m.\u001b[39mbackward(\n\u001b[0;32m    493\u001b[0m     \u001b[38;5;28mself\u001b[39m, gradient, retain_graph, create_graph, inputs\u001b[38;5;241m=\u001b[39minputs\n\u001b[0;32m    494\u001b[0m )\n",
      "File \u001b[1;32m~\\anaconda3\\Lib\\site-packages\\torch\\autograd\\__init__.py:251\u001b[0m, in \u001b[0;36mbackward\u001b[1;34m(tensors, grad_tensors, retain_graph, create_graph, grad_variables, inputs)\u001b[0m\n\u001b[0;32m    246\u001b[0m     retain_graph \u001b[38;5;241m=\u001b[39m create_graph\n\u001b[0;32m    248\u001b[0m \u001b[38;5;66;03m# The reason we repeat the same comment below is that\u001b[39;00m\n\u001b[0;32m    249\u001b[0m \u001b[38;5;66;03m# some Python versions print out the first line of a multi-line function\u001b[39;00m\n\u001b[0;32m    250\u001b[0m \u001b[38;5;66;03m# calls in the traceback and some print out the last line\u001b[39;00m\n\u001b[1;32m--> 251\u001b[0m Variable\u001b[38;5;241m.\u001b[39m_execution_engine\u001b[38;5;241m.\u001b[39mrun_backward(  \u001b[38;5;66;03m# Calls into the C++ engine to run the backward pass\u001b[39;00m\n\u001b[0;32m    252\u001b[0m     tensors,\n\u001b[0;32m    253\u001b[0m     grad_tensors_,\n\u001b[0;32m    254\u001b[0m     retain_graph,\n\u001b[0;32m    255\u001b[0m     create_graph,\n\u001b[0;32m    256\u001b[0m     inputs,\n\u001b[0;32m    257\u001b[0m     allow_unreachable\u001b[38;5;241m=\u001b[39m\u001b[38;5;28;01mTrue\u001b[39;00m,\n\u001b[0;32m    258\u001b[0m     accumulate_grad\u001b[38;5;241m=\u001b[39m\u001b[38;5;28;01mTrue\u001b[39;00m,\n\u001b[0;32m    259\u001b[0m )\n",
      "\u001b[1;31mKeyboardInterrupt\u001b[0m: "
     ]
    }
   ],
   "source": [
    "iters = 100000\n",
    "\n",
    "loss_f = nn.MSELoss()\n",
    "\n",
    "optimizer = optim.Adam(mlp.parameters(), lr=0.00000001)\n",
    "\n",
    "for step in range(iters):\n",
    "\n",
    "    y_preds = mlp(X_train)\n",
    "\n",
    "    # Compute loss\n",
    "    loss = loss_f(y_preds, Y_train)\n",
    "\n",
    "    # Backward pass and optimization\n",
    "    optimizer.zero_grad()\n",
    "    loss.backward()\n",
    "    optimizer.step()\n",
    "    \n",
    "    if step%10 == 0:\n",
    "        \n",
    "        print(f\"train loss: {loss.item()}, val loss: {eval(mlp)}\")\n",
    "    \n",
    "    #print(f\"val loss: {eval(m, test)}\")\n"
   ]
  },
  {
   "cell_type": "code",
   "execution_count": null,
   "id": "62c37d60-2320-4598-ac9f-d102e3a9e575",
   "metadata": {},
   "outputs": [],
   "source": []
  }
 ],
 "metadata": {
  "kernelspec": {
   "display_name": "Python 3 (ipykernel)",
   "language": "python",
   "name": "python3"
  },
  "language_info": {
   "codemirror_mode": {
    "name": "ipython",
    "version": 3
   },
   "file_extension": ".py",
   "mimetype": "text/x-python",
   "name": "python",
   "nbconvert_exporter": "python",
   "pygments_lexer": "ipython3",
   "version": "3.11.3"
  }
 },
 "nbformat": 4,
 "nbformat_minor": 5
}
