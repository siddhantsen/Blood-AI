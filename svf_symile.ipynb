{
 "cells": [
  {
   "cell_type": "code",
   "execution_count": 4,
   "id": "365131e2-708c-42be-ac43-064a27b8d4de",
   "metadata": {},
   "outputs": [],
   "source": [
    "from sklearn.ensemble import RandomForestRegressor\n",
    "from sklearn.tree import DecisionTreeRegressor\n",
    "import pandas as pd\n",
    "import random as rd\n",
    "import matplotlib.pyplot as plt\n",
    "import numpy as np\n",
    "import xgboost as xgb\n",
    "from sklearn.model_selection import train_test_split\n",
    "from sklearn.metrics import mean_squared_error\n",
    "from sklearn.preprocessing import StandardScaler\n",
    "from sklearn.impute import SimpleImputer\n",
    "from sklearn.svm import SVR\n",
    "from sklearn.metrics import mean_squared_error\n"
   ]
  },
  {
   "cell_type": "code",
   "execution_count": 5,
   "id": "43f661ca-a2f3-4e92-812b-2847e1eb16d2",
   "metadata": {},
   "outputs": [],
   "source": [
    "df = pd.read_excel('symile_labs_complete.xlsx')\n",
    "INPUT_MARKERS = [\n",
    "    \"51221_percentile\",  # Hematocrit\n",
    "    \"51222_percentile\",  # Hemoglobin\n",
    "    \"51265_percentile\",  # Platelet Count\n",
    "    \"51301_percentile\",  # White Blood Cells\n",
    "    \"51279_percentile\",  # Red Blood Cells\n",
    "    \"51250_percentile\",  # MCV\n",
    "    \"51248_percentile\",  # MCH\n",
    "    \"51249_percentile\",  # MCHC\n",
    "    # \"51277_percentile\",  # RDW\n",
    "    \"50983_percentile\",  # Sodium\n",
    "    \"50971_percentile\",  # Potassium\n",
    "    \"50902_percentile\",  # Chloride\n",
    "    \"50882_percentile\",  # Bicarbonate\n",
    "    \"50893_percentile\",  # Calcium, Total\n",
    "    \"50931_percentile\",  # Glucose\n",
    "    \"50912_percentile\",  # Creatinine\n",
    "    \"51006_percentile\",  # Urea Nitrogen (BUN)\n",
    "    \"50960_percentile\",  # Magnesium\n",
    "    \"50970_percentile\",  # Phosphate\n",
    "    \"50862_percentile\",  # Albumin\n",
    "    \"50820_percentile\",  # pH\n",
    "]\n",
    "\n",
    "# Less common, more expensive blood markers (good outputs)\n",
    "OUTPUT_MARKERS = [\n",
    "    \"51237_percentile\",  # INR (PT)\n",
    "    \"51274_percentile\",  # PT\n",
    "    \"51275_percentile\",  # PTT\n",
    "    \"52172_percentile\",  # RDW-SD\n",
    "    \"50813_percentile\",  # Lactate\n",
    "    \"50885_percentile\",  # Bilirubin, Total\n",
    "    \"50861_percentile\",  # Alanine Aminotransferase (ALT)\n",
    "    \"50878_percentile\",  # Aspartate Aminotransferase (AST)\n",
    "    \"50863_percentile\",  # Alkaline Phosphatase\n",
    "    \n",
    "    \"50821_percentile\",  # pO2\n",
    "    \"50818_percentile\",  # pCO2\n",
    "    \"50804_percentile\",  # Calculated Total CO2\n",
    "    \"50910_percentile\",  # Creatine Kinase (CK)\n",
    "]"
   ]
  },
  {
   "cell_type": "code",
   "execution_count": 20,
   "id": "96427092-81e1-4549-88cc-d50b24801ac3",
   "metadata": {},
   "outputs": [],
   "source": [
    "X = df[INPUT_MARKERS]  # Input columns (features)\n",
    "y = df[OUTPUT_MARKERS]  # Output columns (targets)\n",
    "scaler_X = StandardScaler()\n",
    "scaler_y = StandardScaler()\n",
    "\n",
    "X = scaler_X.fit_transform(X)\n",
    "y = scaler_y.fit_transform(y)\n",
    "\n",
    "X_train, X_test, y_train, y_test = train_test_split(X, y, test_size=0.2, random_state=42)\n",
    "svr_models = {}\n",
    "y_pred = np.zeros_like(y_test)  # To store predictions\n",
    "    "
   ]
  },
  {
   "cell_type": "code",
   "execution_count": 49,
   "id": "92eb205d-5a68-4fed-b33d-87d6afb22397",
   "metadata": {},
   "outputs": [],
   "source": [
    "for i, target in enumerate(OUTPUT_MARKERS):\n",
    "    svr = SVR(kernel=\"rbf\", C=5, epsilon=0.1, gamma=0.05)  # RBF Kernel works well for nonlinear data\n",
    "    svr.fit(X_train, y_train[:, i])\n",
    "    svr_models[target] = svr\n",
    "    y_pred[:, i] = svr.predict(X_test)\n",
    "\n",
    "    "
   ]
  },
  {
   "cell_type": "code",
   "execution_count": 50,
   "id": "dc068923-c5fd-4146-af9b-8db557e9e40d",
   "metadata": {},
   "outputs": [
    {
     "name": "stdout",
     "output_type": "stream",
     "text": [
      "MSE for each predicted biomarker: {'51237_percentile': 1.0040828830853907, '51274_percentile': 1.0490126738343633, '51275_percentile': 1.2411860031285713, '52172_percentile': 0.7837383659200077, '50813_percentile': 0.8948481878012255, '50885_percentile': 0.9792081927772578, '50861_percentile': 1.0278241199805602, '50878_percentile': 0.8728548964526895, '50863_percentile': 1.0367758552798285, '50821_percentile': 1.1922864292431445, '50818_percentile': 0.4614737611465759, '50804_percentile': 0.411855527864404, '50910_percentile': 0.9762678875006633}\n"
     ]
    }
   ],
   "source": [
    "mse_scores = {target: mean_squared_error(y_test[:, i], y_pred[:, i]) for i, target in enumerate(OUTPUT_MARKERS)}\n",
    "\n",
    "print(\"MSE for each predicted biomarker:\", mse_scores)"
   ]
  },
  {
   "cell_type": "code",
   "execution_count": null,
   "id": "ef5147c1-3d36-462d-bf12-70f9d3dca31e",
   "metadata": {},
   "outputs": [],
   "source": []
  },
  {
   "cell_type": "code",
   "execution_count": null,
   "id": "4134a234-d8c1-446c-81ba-67b0d084f830",
   "metadata": {},
   "outputs": [],
   "source": []
  }
 ],
 "metadata": {
  "kernelspec": {
   "display_name": "Python 3 (ipykernel)",
   "language": "python",
   "name": "python3"
  },
  "language_info": {
   "codemirror_mode": {
    "name": "ipython",
    "version": 3
   },
   "file_extension": ".py",
   "mimetype": "text/x-python",
   "name": "python",
   "nbconvert_exporter": "python",
   "pygments_lexer": "ipython3",
   "version": "3.11.4"
  }
 },
 "nbformat": 4,
 "nbformat_minor": 5
}
