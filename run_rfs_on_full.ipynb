{
 "cells": [
  {
   "cell_type": "code",
   "execution_count": 18,
   "id": "4c69b978-2ddf-47f0-8167-54b4e671debd",
   "metadata": {
    "tags": []
   },
   "outputs": [],
   "source": [
    "from sklearn.ensemble import RandomForestRegressor\n",
    "from sklearn.tree import DecisionTreeRegressor\n",
    "import pandas as pd\n",
    "import torch.nn as nn\n",
    "import torch\n",
    "import random as rd\n",
    "import seaborn as sns\n",
    "import matplotlib.pyplot as plt\n",
    "import numpy as np\n",
    "from itertools import combinations\n",
    "from statsmodels.distributions.empirical_distribution import StepFunction"
   ]
  },
  {
   "cell_type": "code",
   "execution_count": 19,
   "id": "fab7a729-c888-4d67-b8f2-1e95c61eb9ca",
   "metadata": {
    "tags": []
   },
   "outputs": [],
   "source": [
    "def create_dataset(original_data, input_list, output):\n",
    "    selected_columns = input_list + output\n",
    "    df = original_data[selected_columns]\n",
    "    df = df.dropna()\n",
    "    return df\n",
    "\n",
    "def get_zscored(df):\n",
    "    df_raw = df.loc[:,~df.columns.str.contains('percentile')]\n",
    "    df_raw = df_raw.loc[:,df_raw.columns.isin(labs.keys())]\n",
    "    #df_raw.columns = df_raw.columns.map(labs)\n",
    "    drop = ['50947', '50934', '51678', '52135', '51133', '52069', '52074', '52073', '52075']\n",
    "    df_common = df_raw.drop(drop, axis=1)\n",
    "    df_z_scores = (df_common - df_common.mean()) / df_common.std()\n",
    "    return df_z_scores\n",
    "\n",
    "def get_percentile(df):\n",
    "    df_raw = df.loc[:,df.columns.str.contains('percentile')]\n",
    "    drop = ['50947', '50934', '51678', '52135', '51133', '52069', '52074', '52073', '52075']\n",
    "    drop = [x+\"_percentile\" for x in drop]\n",
    "    df_common = df_raw.drop(drop, axis=1)\n",
    "    df_common.columns = [x.split(\"_\")[0] for x in df_common.columns]\n",
    "    return df_common\n",
    "\n",
    "def get_raw(df):\n",
    "    df_raw = df.loc[:,~df.columns.str.contains('percentile')]\n",
    "    df_raw = df_raw.loc[:,df_raw.columns.isin(labs.keys())]\n",
    "    #df_raw.columns = df_raw.columns.map(labs)\n",
    "    drop = ['50947', '50934', '51678', '52135', '51133', '52069', '52074', '52073', '52075']\n",
    "    df_common = df_raw.drop(drop, axis=1)\n",
    "    return df_common"
   ]
  },
  {
   "cell_type": "code",
   "execution_count": 30,
   "id": "d89412ba-758d-4a1d-8d2d-699d46d740ff",
   "metadata": {
    "tags": []
   },
   "outputs": [],
   "source": [
    "class NaNAwareECDF(StepFunction):\n",
    "    \"\"\"\n",
    "    Very similar to the statsmodels ECDF class\n",
    "    (https://www.statsmodels.org/stable/generated/statsmodels.distributions.empirical_distribution.ECDF.html)\n",
    "    except that it computes a NaN-aware ECDF by filling values corresponding to np.nan with np.nan.\n",
    "\n",
    "    Source: https://stackoverflow.com/a/68959320\n",
    "    \"\"\"\n",
    "    def __init__(self, x, side='right'):\n",
    "        x = np.sort(x)\n",
    "\n",
    "        # count number of non-nan's instead of length\n",
    "        nobs = np.count_nonzero(~np.isnan(x))\n",
    "\n",
    "        # fill the y values corresponding to np.nan with np.nan\n",
    "        y = np.full_like(x, np.nan)\n",
    "        y[:nobs]  = np.linspace(1./nobs,1,nobs)\n",
    "        super(NaNAwareECDF, self).__init__(x, y, side=side, sorted=True)\n",
    "\n",
    "    def inverse_ecdf(self, p):\n",
    "        \"\"\"\n",
    "        Inverse ECDF (quantile function) method.\n",
    "        Maps a percentile `p` (between 0 and 1) to the corresponding value on the ECDF curve.\n",
    "\n",
    "        Parameters:\n",
    "        -----------\n",
    "        p : float or array-like\n",
    "            Percentile(s) to map to the corresponding value(s).\n",
    "\n",
    "        Returns:\n",
    "        --------\n",
    "        float or array-like\n",
    "            The value(s) corresponding to the given percentile(s).\n",
    "        \"\"\"\n",
    "        if np.any(p < 0) or np.any(p > 1):\n",
    "            raise ValueError(\"Percentile `p` must be between 0 and 1.\")\n",
    "\n",
    "        # Get the sorted non-NaN values and their corresponding ECDF values\n",
    "        x = self.x[~np.isnan(self.y)]\n",
    "        y = self.y[~np.isnan(self.y)]\n",
    "\n",
    "        # Use interpolation to find the value corresponding to the percentile `p`\n",
    "        return np.interp(p, y, x)"
   ]
  },
  {
   "cell_type": "code",
   "execution_count": 31,
   "id": "5eef8ed9-ef04-4f03-8cad-c6878f055bad",
   "metadata": {
    "tags": []
   },
   "outputs": [],
   "source": [
    "labs = {\n",
    "    \"51221\": \"Hematocrit\",\n",
    "    \"51265\": \"Platelet Count\",\n",
    "    \"50912\": \"Creatinine\",\n",
    "    \"50971\": \"Potassium\",\n",
    "    \"51222\": \"Hemoglobin\",\n",
    "    \"51301\": \"White Blood Cells\",\n",
    "    \"51249\": \"MCHC\",\n",
    "    \"51279\": \"Red Blood Cells\",\n",
    "    \"51250\": \"MCV\",\n",
    "    \"51248\": \"MCH\",\n",
    "    \"51277\": \"RDW\",\n",
    "    \"51006\": \"Urea Nitrogen\",\n",
    "    \"50983\": \"Sodium\",\n",
    "    \"50902\": \"Chloride\",\n",
    "    \"50882\": \"Bicarbonate\",\n",
    "    \"50868\": \"Anion Gap\",\n",
    "    \"50931\": \"Glucose\",\n",
    "    \"50960\": \"Magnesium\",\n",
    "    \"50893\": \"Calcium, Total\",\n",
    "    \"50970\": \"Phosphate\",\n",
    "    \"51237\": \"INR(PT)\",\n",
    "    \"51274\": \"PT\",\n",
    "    \"51275\": \"PTT\",\n",
    "    \"51146\": \"Basophils\",\n",
    "    \"51256\": \"Neutrophils\",\n",
    "    \"51254\": \"Monocytes\",\n",
    "    \"51200\": \"Eosinophils\",\n",
    "    \"51244\": \"Lymphocytes\",\n",
    "    \"52172\": \"RDW-SD\",\n",
    "    \"50934\": \"H\",\n",
    "    \"51678\": \"L\",\n",
    "    \"50947\": \"I\",\n",
    "    \"50861\": \"Alanine Aminotransferase (ALT)\",\n",
    "    \"50878\": \"Asparate Aminotransferase (AST)\",\n",
    "    \"50813\": \"Lactate\",\n",
    "    \"50863\": \"Alkaline Phosphatase\",\n",
    "    \"50885\": \"Bilirubin, Total\",\n",
    "    \"50820\": \"pH\",\n",
    "    \"50862\": \"Albumin\",\n",
    "    \"50802\": \"Base Excess\",\n",
    "    \"50821\": \"pO2\",\n",
    "    \"50804\": \"Calculated Total CO2\",\n",
    "    \"50818\": \"pCO2\",\n",
    "    \"52075\": \"Absolute Neutrophil Count\",\n",
    "    \"52073\": \"Absolute Eosinophil Count\",\n",
    "    \"52074\": \"Absolute Monocyte Count\",\n",
    "    \"52069\": \"Absolute Basophil Count\",\n",
    "    \"51133\": \"Absolute Lymphocyte Count\",\n",
    "    \"50910\": \"Creatine Kinase (CK)\",\n",
    "    \"52135\": \"Immature Granulocytes\"\n",
    "}\n",
    "labs_reversed = {value: key for key, value in labs.items()}"
   ]
  },
  {
   "cell_type": "code",
   "execution_count": 46,
   "id": "84d8ff99-4ea4-4793-b2a1-21acb59627a9",
   "metadata": {
    "tags": []
   },
   "outputs": [],
   "source": [
    "df_train = pd.read_csv(r\"C:\\Users\\joshu\\Downloads\\train.csv\")\n",
    "df_test = pd.read_csv(r\"C:\\Users\\joshu\\Downloads\\test (1).csv\")\n",
    "df_val = pd.read_csv(r\"C:\\Users\\joshu\\Downloads\\val.csv\")\n",
    "\n",
    "df_z_scores = get_zscored(df_train)\n",
    "df_percentiles = get_percentile(df_train)\n",
    "df_test_z = get_zscored(df_test)\n",
    "df_test_raw = get_raw(df_test)\n",
    "df_test_percentile = get_percentile(df_test)\n",
    "df_full = pd.concat([df_train, df_test, df_val])"
   ]
  },
  {
   "cell_type": "code",
   "execution_count": 47,
   "id": "e59fcb89-bd5a-463b-b0ad-d19e8daa5c19",
   "metadata": {
    "tags": []
   },
   "outputs": [],
   "source": [
    "var_cdfs = {}\n",
    "for var in labs.keys():\n",
    "    ecdf = NaNAwareECDF(df_train[var])\n",
    "    var_cdfs[var] = ecdf"
   ]
  },
  {
   "cell_type": "code",
   "execution_count": 48,
   "id": "47f9a6b3-e9d7-42d6-851c-43ac9a433b52",
   "metadata": {
    "tags": []
   },
   "outputs": [],
   "source": [
    "#df_z_scores.to_excel(\"full_train_z_scored.xlsx\")"
   ]
  },
  {
   "cell_type": "code",
   "execution_count": 49,
   "id": "db0de57f-fccd-490a-a83f-9cfb98f100b6",
   "metadata": {
    "tags": []
   },
   "outputs": [],
   "source": [
    "encode = lambda x: [labs_reversed[i] for i in x]\n",
    "decode = lambda x: [labs[i] for i in x]"
   ]
  },
  {
   "cell_type": "code",
   "execution_count": 50,
   "id": "36fc2ef5-ebd0-4c79-9290-9f587f4f534b",
   "metadata": {
    "tags": []
   },
   "outputs": [],
   "source": [
    "def rf2(xs, y, n_estimators=200, max_samples=0.8,\n",
    "       max_features=0.8206143222402672, min_samples_leaf=1, max_depth= 13, **kwargs):\n",
    "    return RandomForestRegressor(n_jobs=-1, max_depth=max_depth, n_estimators=n_estimators,\n",
    "        max_samples=max_samples, max_features=max_features,\n",
    "        min_samples_leaf=min_samples_leaf, oob_score=True).fit(xs, y)\n",
    "MSE = nn.MSELoss()"
   ]
  },
  {
   "cell_type": "code",
   "execution_count": 51,
   "id": "04da8ca4-7961-45d8-9231-b32bfbd78e4f",
   "metadata": {
    "tags": []
   },
   "outputs": [],
   "source": [
    "total_feats = ['Platelet Count',\n",
    " 'Basophils',\n",
    " 'Sodium',\n",
    " 'Urea Nitrogen',\n",
    " 'PTT',\n",
    " 'Albumin',\n",
    " 'Neutrophils',\n",
    " 'pH',\n",
    " 'pO2',\n",
    " 'Bicarbonate',\n",
    " 'Hematocrit',\n",
    " 'Potassium']"
   ]
  },
  {
   "cell_type": "code",
   "execution_count": 52,
   "id": "b7b2e205-dd55-4557-ab07-037893bdee0d",
   "metadata": {
    "tags": []
   },
   "outputs": [
    {
     "data": {
      "text/plain": [
       "['Red Blood Cells',\n",
       " 'MCH',\n",
       " 'Chloride',\n",
       " 'RDW',\n",
       " 'MCV',\n",
       " 'Lymphocytes',\n",
       " 'Hemoglobin',\n",
       " 'Creatine Kinase (CK)',\n",
       " 'Anion Gap',\n",
       " 'Glucose',\n",
       " 'Calculated Total CO2',\n",
       " 'Monocytes',\n",
       " 'MCHC',\n",
       " 'Bilirubin, Total',\n",
       " 'Creatinine',\n",
       " 'Lactate',\n",
       " 'Alkaline Phosphatase',\n",
       " 'INR(PT)',\n",
       " 'Magnesium',\n",
       " 'Phosphate',\n",
       " 'Calcium, Total',\n",
       " 'Alanine Aminotransferase (ALT)',\n",
       " 'Base Excess',\n",
       " 'PT',\n",
       " 'Eosinophils',\n",
       " 'Asparate Aminotransferase (AST)',\n",
       " 'White Blood Cells',\n",
       " 'pCO2',\n",
       " 'RDW-SD']"
      ]
     },
     "execution_count": 52,
     "metadata": {},
     "output_type": "execute_result"
    }
   ],
   "source": [
    "cols = decode(df_z_scores.columns.to_list())\n",
    "targets = list(set(cols) - set(total_feats))\n",
    "targets"
   ]
  },
  {
   "cell_type": "code",
   "execution_count": 57,
   "id": "5c308d2c-cd08-4ea9-bb1f-db01ce75a1a4",
   "metadata": {
    "tags": []
   },
   "outputs": [
    {
     "name": "stdout",
     "output_type": "stream",
     "text": [
      "Red Blood Cells\n",
      "1.7975755455970672\n",
      "MCH\n",
      "6.824141132776231\n",
      "Chloride\n",
      "47.74744661095636\n",
      "RDW\n",
      "6.059350046425255\n",
      "MCV\n",
      "57.341689879294336\n",
      "Lymphocytes\n",
      "186.96702878365832\n",
      "Hemoglobin\n",
      "16.194493964716802\n",
      "Creatine Kinase (CK)\n",
      "219086334.10286254\n",
      "Anion Gap\n",
      "38.404828226555246\n",
      "Glucose\n",
      "10656.474466109563\n",
      "Calculated Total CO2\n",
      "41.32033426183844\n",
      "Monocytes\n",
      "20.191652739090067\n",
      "MCHC\n",
      "2.732293407613743\n",
      "Bilirubin, Total\n",
      "2.0024879923150816\n",
      "Creatinine\n",
      "7.904029712163417\n",
      "Lactate\n",
      "5.799388349514563\n",
      "Alkaline Phosphatase\n",
      "27376.52727272727\n",
      "INR(PT)\n",
      "2.142246982358403\n",
      "Magnesium\n",
      "0.24577251184834137\n",
      "Phosphate\n",
      "2.893661835748792\n",
      "Calcium, Total\n",
      "1.2028119001919382\n",
      "Alanine Aminotransferase (ALT)\n",
      "325067.06889952155\n",
      "Base Excess\n",
      "39.13091922005571\n",
      "PT\n",
      "253.32573816155985\n",
      "Eosinophils\n",
      "2.5852367688022286\n",
      "Asparate Aminotransferase (AST)\n",
      "771220.5971291866\n",
      "White Blood Cells\n",
      "70.75997214484678\n",
      "pCO2\n",
      "161.2534818941504\n",
      "RDW-SD\n",
      "76.53601591836741\n"
     ]
    }
   ],
   "source": [
    "for target in targets:\n",
    "    \n",
    "    ecdf =  var_cdfs[encode([target])[0]]\n",
    "    \n",
    "    inputs = encode(total_feats)\n",
    "    \n",
    "    output = encode([target])\n",
    "    \n",
    "    df = create_dataset(df_percentiles, inputs, output)\n",
    "    \n",
    "    df_test = create_dataset(df_test_raw, inputs, output)\n",
    "    \n",
    "    x_df = df[encode(total_feats)]\n",
    "    y_df = df[encode([target])]\n",
    "    \n",
    "    x_test_df = df_test[encode(total_feats)]\n",
    "    y_test_df = df_test[encode([target])]\n",
    "\n",
    "    y = y_df.to_numpy()\n",
    "    x = x_df.to_numpy()\n",
    "    \n",
    "    x_test = x_test_df.to_numpy()\n",
    "    y_test = y_test_df.to_numpy()\n",
    "    \n",
    "    y = y.ravel()\n",
    "    y_test = y_test.ravel() # prevents mismatched shapes in the second dimension\n",
    "\n",
    "    m = rf2(x,y)\n",
    "\n",
    "    y_preds = m.predict(x_test)\n",
    "    y_preds_ecdf = ecdf.inverse_ecdf(y_preds)\n",
    "\n",
    "    loss = float(MSE(torch.tensor(y_test), torch.tensor(y_preds_ecdf)))\n",
    "\n",
    "    #loss_df.loc[len(loss_df)] = [target, loss]\n",
    "    print(target)\n",
    "    print(loss)"
   ]
  },
  {
   "cell_type": "code",
   "execution_count": 89,
   "id": "54ace0df-89ff-4452-ae2e-b5b1240c479d",
   "metadata": {},
   "outputs": [],
   "source": [
    "target = 'Eosinophils'\n",
    "\n",
    "ecdf =  var_cdfs[encode([target])[0]]\n",
    "    \n",
    "inputs = encode(total_feats)\n",
    "\n",
    "output = encode([target])\n",
    "\n",
    "df = create_dataset(df_percentiles, inputs, output)\n",
    "\n",
    "df_test = create_dataset(df_test_raw, inputs, output)\n",
    "df_test_percentiles = create_dataset(df_test_percentile, inputs, output)\n",
    "\n",
    "x_df = df[encode(total_feats)]\n",
    "y_df = df[encode([target])]\n",
    "\n",
    "x_test_df = df_test[encode(total_feats)]\n",
    "y_test_df = df_test[encode([target])]\n",
    "y_test_percentiles =df_test_percentile[encode([target])]\n",
    "\n",
    "y = y_df.to_numpy()\n",
    "x = x_df.to_numpy()\n",
    "\n",
    "x_test = x_test_df.to_numpy()\n",
    "y_test = y_test_df.to_numpy()\n",
    "\n",
    "y = y.ravel()\n",
    "y_test = y_test.ravel() # prevents mismatched shapes in the second dimension\n",
    "\n",
    "m = rf2(x,y)\n",
    "\n",
    "y_preds = m.predict(x_test)\n",
    "y_preds_ecdf = ecdf.inverse_ecdf(y_preds)\n",
    "\n",
    "loss = float(MSE(torch.tensor(y_test), torch.tensor(y_preds_ecdf)))\n",
    "\n",
    "preds_df = pd.DataFrame(y_preds_ecdf)"
   ]
  },
  {
   "cell_type": "code",
   "execution_count": 90,
   "id": "813f9c12-af7e-40b6-8a5e-953008c07f19",
   "metadata": {
    "tags": []
   },
   "outputs": [
    {
     "name": "stdout",
     "output_type": "stream",
     "text": [
      "0    0.7\n",
      "dtype: float64\n",
      "0    0.70585\n",
      "dtype: float64\n",
      "0    0.8\n",
      "dtype: float64\n"
     ]
    }
   ],
   "source": [
    "print(preds_df.min())\n",
    "print(preds_df.mean())\n",
    "print(preds_df.max())"
   ]
  },
  {
   "cell_type": "code",
   "execution_count": 91,
   "id": "931cd9b2-bce9-4d15-b6f0-eff3b1507e88",
   "metadata": {
    "tags": []
   },
   "outputs": [
    {
     "name": "stdout",
     "output_type": "stream",
     "text": [
      "51200    0.0\n",
      "dtype: float64\n",
      "51200    1.042804\n",
      "dtype: float64\n",
      "51200    7.0\n",
      "dtype: float64\n"
     ]
    }
   ],
   "source": [
    "print(y_test_df.min())\n",
    "print(y_test_df.mean())\n",
    "print(y_test_df.max())"
   ]
  },
  {
   "cell_type": "code",
   "execution_count": 92,
   "id": "3289f6e3-a411-47a9-8ee5-bd71e0342750",
   "metadata": {
    "tags": []
   },
   "outputs": [
    {
     "name": "stdout",
     "output_type": "stream",
     "text": [
      "0.4678326239457708\n",
      "0.4795667402648126\n",
      "0.5123348703397174\n"
     ]
    }
   ],
   "source": [
    "print(y_preds.min())\n",
    "print(y_preds.mean())\n",
    "print(y_preds.max())"
   ]
  },
  {
   "cell_type": "code",
   "execution_count": 93,
   "id": "90b87e2b-49d3-4c01-8767-66db257ffa1d",
   "metadata": {
    "tags": []
   },
   "outputs": [
    {
     "name": "stdout",
     "output_type": "stream",
     "text": [
      "51200    0.164814\n",
      "dtype: float64\n",
      "51200    0.512446\n",
      "dtype: float64\n",
      "51200    0.999054\n",
      "dtype: float64\n"
     ]
    }
   ],
   "source": [
    "print(y_test_percentiles.min())\n",
    "print(y_test_percentiles.mean())\n",
    "print(y_test_percentiles.max())"
   ]
  },
  {
   "cell_type": "code",
   "execution_count": null,
   "id": "7bfecc7e-2653-46c5-8e6e-0ec13c708994",
   "metadata": {},
   "outputs": [],
   "source": []
  }
 ],
 "metadata": {
  "kernelspec": {
   "display_name": "Python 3 (ipykernel)",
   "language": "python",
   "name": "python3"
  },
  "language_info": {
   "codemirror_mode": {
    "name": "ipython",
    "version": 3
   },
   "file_extension": ".py",
   "mimetype": "text/x-python",
   "name": "python",
   "nbconvert_exporter": "python",
   "pygments_lexer": "ipython3",
   "version": "3.11.3"
  }
 },
 "nbformat": 4,
 "nbformat_minor": 5
}
